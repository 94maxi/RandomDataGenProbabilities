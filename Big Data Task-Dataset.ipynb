{
 "cells": [
  {
   "cell_type": "code",
   "execution_count": 58,
   "id": "tutorial-chapter",
   "metadata": {},
   "outputs": [
    {
     "name": "stdout",
     "output_type": "stream",
     "text": [
      "Empty DataFrame\n",
      "Columns: [Member_ID, Name, Age, Gender, Discipline, Time of Entry, Facility_ID]\n",
      "Index: []\n"
     ]
    }
   ],
   "source": [
    "import pandas as pd\n",
    "import random\n",
    "import numpy as np\n",
    "from random import randrange\n",
    "import names\n",
    "\n",
    "\n",
    "classes=['pilates',' group fitness','kickboxing','climbing','dance', 'powerlifting','running']\n",
    "\n",
    "#Age group 50-70 15k people\n",
    "print(df)\n",
    "\n"
   ]
  },
  {
   "cell_type": "code",
   "execution_count": 59,
   "id": "accomplished-oliver",
   "metadata": {},
   "outputs": [],
   "source": [
    "df = pd.DataFrame(columns=['Member_ID','Name','Age','Gender','Discipline','Time of Entry','Facility_ID'])"
   ]
  },
  {
   "cell_type": "code",
   "execution_count": 60,
   "id": "literary-balance",
   "metadata": {},
   "outputs": [
    {
     "name": "stdout",
     "output_type": "stream",
     "text": [
      "  Member_ID              Name   Age  Gender      Discipline Time of Entry  \\\n",
      "1       M_1       Mireya Leon  [60]    Male   group fitness   19:00-20:00   \n",
      "2       M_2         Norma Ray  [65]    Male         running   09:00-10:00   \n",
      "3       M_3  Susan Vonsoosten  [60]  Female         pilates   09:00-10:00   \n",
      "4       M_4  Jonathan Kellogg  [51]    Male         pilates   17:00-18:00   \n",
      "5       M_5   Carmen Sistrunk  [59]  Female         pilates   18:00-19:00   \n",
      "6       M_6      Karl Nichols  [60]  Female         pilates   15:00-16:00   \n",
      "7       M_7     Joni Lawrence  [65]  Female    powerlifting   10:00-11:00   \n",
      "8       M_8      Zoila Ellett  [56]  Female         pilates   09:00-10:00   \n",
      "9       M_9   Roberta Perkins  [63]    Male         running   14:00-15:00   \n",
      "\n",
      "   Facility_ID  \n",
      "1  Facility_88  \n",
      "2  Facility_11  \n",
      "3  Facility_58  \n",
      "4  Facility_99  \n",
      "5  Facility_37  \n",
      "6  Facility_42  \n",
      "7  Facility_10  \n",
      "8  Facility_68  \n",
      "9  Facility_80  \n"
     ]
    }
   ],
   "source": [
    "#For Ages 50-70\n",
    "for i in range(1,10000):\n",
    "    a='M_'+str(i)\n",
    "    df.at[i,'Member_ID']=a\n",
    "    df.at[i,'Name']=names.get_full_name()\n",
    "    b=[randrange(50,70)]\n",
    "    df.at[i,'Age']=b\n",
    "    dc=np.random.choice(7,1, p=[0.5, 0.2,0.025,0.025,0.05,0.01,0.19])\n",
    "    c=classes[int(dc)]\n",
    "    gchoice=['Male','Female']\n",
    "    df.at[i,'Gender']=random.choice(gchoice)\n",
    "    df.at[i,'Discipline']=c\n",
    "    time=[\"09:00-10:00\"]*4+[\"10:00-11:00\"]*3+[\"11:00-12:00\"]*2+[\"12:00-13:00\"]*2+[\"13:00-14:00\"]*2+[\"14:00-15:00\"]*3+[\"15:00-16:00\"]*2+[\"16:00-17:00\"]*1+[\"17:00-18:00\"]*1+[\"18:00-19:00\"]*1+[\"19:00-20:00\"]*1\n",
    "    d=random.choice(time)\n",
    "    df.at[i,'Time of Entry']=d\n",
    "    e='Facility_'+str(randrange(101))\n",
    "    df.at[i,'Facility_ID']=e\n"
   ]
  },
  {
   "cell_type": "code",
   "execution_count": 61,
   "id": "common-winter",
   "metadata": {},
   "outputs": [],
   "source": [
    "#For Ages 35-50\n",
    "for i in range(10000,30000):\n",
    "    a='M_'+str(i)\n",
    "    df.at[i,'Member_ID']=a\n",
    "    df.at[i,'Name']=names.get_full_name()\n",
    "    b=[randrange(35,50)]\n",
    "    df.at[i,'Age']=b\n",
    "    dc=np.random.choice(7,1, p=[0.2, 0.2,0.15,0.15,0.05,0.05,0.2])\n",
    "    c=classes[int(dc)]\n",
    "    gchoice=['Male','Female']\n",
    "    df.at[i,'Gender']=random.choice(gchoice)\n",
    "    df.at[i,'Discipline']=c\n",
    "    time=[\"09:00-10:00\"]*3+[\"10:00-11:00\"]*1+[\"11:00-12:00\"]*1+[\"12:00-13:00\"]*3+[\"13:00-14:00\"]*2+[\"14:00-15:00\"]*1+[\"15:00-16:00\"]*1+[\"16:00-17:00\"]*1+[\"17:00-18:00\"]*1+[\"18:00-19:00\"]*1+[\"19:00-20:00\"]*1\n",
    "    d=random.choice(time)\n",
    "    df.at[i,'Time of Entry']=d\n",
    "    e='Facility_'+str(randrange(101))\n",
    "    df.at[i,'Facility_ID']=e"
   ]
  },
  {
   "cell_type": "code",
   "execution_count": 63,
   "id": "invisible-conjunction",
   "metadata": {},
   "outputs": [],
   "source": [
    "#For Ages 18-35\n",
    "for i in range(30000,70001):\n",
    "    a='M_'+str(i)\n",
    "    df.at[i,'Member_ID']=a\n",
    "    df.at[i,'Name']=names.get_full_name()\n",
    "    b=[randrange(18,35)]\n",
    "    df.at[i,'Age']=b\n",
    "    dc=np.random.choice(7,1, p=[0.15, 0.15,0.15,0.15,0.15,0.10,0.15])\n",
    "    c=classes[int(dc)]\n",
    "    gchoice=['Male','Female']\n",
    "    df.at[i,'Gender']=random.choice(gchoice)\n",
    "    df.at[i,'Discipline']=c\n",
    "    time=[\"09:00-10:00\"]*2+[\"10:00-11:00\"]*2+[\"11:00-12:00\"]*1+[\"12:00-13:00\"]*3+[\"13:00-14:00\"]*2+[\"14:00-15:00\"]*2+[\"15:00-16:00\"]*2+[\"16:00-17:00\"]*2+[\"17:00-18:00\"]*4+[\"18:00-19:00\"]*4+[\"19:00-20:00\"]*4\n",
    "    d=random.choice(time)\n",
    "    df.at[i,'Time of Entry']=d\n",
    "    e='Facility_'+str(randrange(101))\n",
    "    df.at[i,'Facility_ID']=e"
   ]
  },
  {
   "cell_type": "code",
   "execution_count": 66,
   "id": "subsequent-dayton",
   "metadata": {},
   "outputs": [
    {
     "ename": "KeyError",
     "evalue": "0",
     "output_type": "error",
     "traceback": [
      "\u001b[1;31m---------------------------------------------------------------------------\u001b[0m",
      "\u001b[1;31mKeyError\u001b[0m                                  Traceback (most recent call last)",
      "\u001b[1;32m<ipython-input-66-2bbd6fe23291>\u001b[0m in \u001b[0;36m<module>\u001b[1;34m\u001b[0m\n\u001b[1;32m----> 1\u001b[1;33m \u001b[0mnp\u001b[0m\u001b[1;33m.\u001b[0m\u001b[0mrandom\u001b[0m\u001b[1;33m.\u001b[0m\u001b[0mshuffle\u001b[0m\u001b[1;33m(\u001b[0m\u001b[0mdf\u001b[0m\u001b[1;33m[\u001b[0m\u001b[1;34m'Member_ID'\u001b[0m\u001b[1;33m]\u001b[0m\u001b[1;33m)\u001b[0m\u001b[1;33m\u001b[0m\u001b[1;33m\u001b[0m\u001b[0m\n\u001b[0m",
      "\u001b[1;32mmtrand.pyx\u001b[0m in \u001b[0;36mnumpy.random.mtrand.RandomState.shuffle\u001b[1;34m()\u001b[0m\n",
      "\u001b[1;32mmtrand.pyx\u001b[0m in \u001b[0;36mnumpy.random.mtrand.RandomState.shuffle\u001b[1;34m()\u001b[0m\n",
      "\u001b[1;32m~\\miniconda3\\lib\\site-packages\\pandas\\core\\series.py\u001b[0m in \u001b[0;36m__getitem__\u001b[1;34m(self, key)\u001b[0m\n\u001b[0;32m    869\u001b[0m         \u001b[0mkey\u001b[0m \u001b[1;33m=\u001b[0m \u001b[0mcom\u001b[0m\u001b[1;33m.\u001b[0m\u001b[0mapply_if_callable\u001b[0m\u001b[1;33m(\u001b[0m\u001b[0mkey\u001b[0m\u001b[1;33m,\u001b[0m \u001b[0mself\u001b[0m\u001b[1;33m)\u001b[0m\u001b[1;33m\u001b[0m\u001b[1;33m\u001b[0m\u001b[0m\n\u001b[0;32m    870\u001b[0m         \u001b[1;32mtry\u001b[0m\u001b[1;33m:\u001b[0m\u001b[1;33m\u001b[0m\u001b[1;33m\u001b[0m\u001b[0m\n\u001b[1;32m--> 871\u001b[1;33m             \u001b[0mresult\u001b[0m \u001b[1;33m=\u001b[0m \u001b[0mself\u001b[0m\u001b[1;33m.\u001b[0m\u001b[0mindex\u001b[0m\u001b[1;33m.\u001b[0m\u001b[0mget_value\u001b[0m\u001b[1;33m(\u001b[0m\u001b[0mself\u001b[0m\u001b[1;33m,\u001b[0m \u001b[0mkey\u001b[0m\u001b[1;33m)\u001b[0m\u001b[1;33m\u001b[0m\u001b[1;33m\u001b[0m\u001b[0m\n\u001b[0m\u001b[0;32m    872\u001b[0m \u001b[1;33m\u001b[0m\u001b[0m\n\u001b[0;32m    873\u001b[0m             \u001b[1;32mif\u001b[0m \u001b[1;32mnot\u001b[0m \u001b[0mis_scalar\u001b[0m\u001b[1;33m(\u001b[0m\u001b[0mresult\u001b[0m\u001b[1;33m)\u001b[0m\u001b[1;33m:\u001b[0m\u001b[1;33m\u001b[0m\u001b[1;33m\u001b[0m\u001b[0m\n",
      "\u001b[1;32m~\\miniconda3\\lib\\site-packages\\pandas\\core\\indexes\\base.py\u001b[0m in \u001b[0;36mget_value\u001b[1;34m(self, series, key)\u001b[0m\n\u001b[0;32m   4403\u001b[0m         \u001b[0mk\u001b[0m \u001b[1;33m=\u001b[0m \u001b[0mself\u001b[0m\u001b[1;33m.\u001b[0m\u001b[0m_convert_scalar_indexer\u001b[0m\u001b[1;33m(\u001b[0m\u001b[0mk\u001b[0m\u001b[1;33m,\u001b[0m \u001b[0mkind\u001b[0m\u001b[1;33m=\u001b[0m\u001b[1;34m\"getitem\"\u001b[0m\u001b[1;33m)\u001b[0m\u001b[1;33m\u001b[0m\u001b[1;33m\u001b[0m\u001b[0m\n\u001b[0;32m   4404\u001b[0m         \u001b[1;32mtry\u001b[0m\u001b[1;33m:\u001b[0m\u001b[1;33m\u001b[0m\u001b[1;33m\u001b[0m\u001b[0m\n\u001b[1;32m-> 4405\u001b[1;33m             \u001b[1;32mreturn\u001b[0m \u001b[0mself\u001b[0m\u001b[1;33m.\u001b[0m\u001b[0m_engine\u001b[0m\u001b[1;33m.\u001b[0m\u001b[0mget_value\u001b[0m\u001b[1;33m(\u001b[0m\u001b[0ms\u001b[0m\u001b[1;33m,\u001b[0m \u001b[0mk\u001b[0m\u001b[1;33m,\u001b[0m \u001b[0mtz\u001b[0m\u001b[1;33m=\u001b[0m\u001b[0mgetattr\u001b[0m\u001b[1;33m(\u001b[0m\u001b[0mseries\u001b[0m\u001b[1;33m.\u001b[0m\u001b[0mdtype\u001b[0m\u001b[1;33m,\u001b[0m \u001b[1;34m\"tz\"\u001b[0m\u001b[1;33m,\u001b[0m \u001b[1;32mNone\u001b[0m\u001b[1;33m)\u001b[0m\u001b[1;33m)\u001b[0m\u001b[1;33m\u001b[0m\u001b[1;33m\u001b[0m\u001b[0m\n\u001b[0m\u001b[0;32m   4406\u001b[0m         \u001b[1;32mexcept\u001b[0m \u001b[0mKeyError\u001b[0m \u001b[1;32mas\u001b[0m \u001b[0me1\u001b[0m\u001b[1;33m:\u001b[0m\u001b[1;33m\u001b[0m\u001b[1;33m\u001b[0m\u001b[0m\n\u001b[0;32m   4407\u001b[0m             \u001b[1;32mif\u001b[0m \u001b[0mlen\u001b[0m\u001b[1;33m(\u001b[0m\u001b[0mself\u001b[0m\u001b[1;33m)\u001b[0m \u001b[1;33m>\u001b[0m \u001b[1;36m0\u001b[0m \u001b[1;32mand\u001b[0m \u001b[1;33m(\u001b[0m\u001b[0mself\u001b[0m\u001b[1;33m.\u001b[0m\u001b[0mholds_integer\u001b[0m\u001b[1;33m(\u001b[0m\u001b[1;33m)\u001b[0m \u001b[1;32mor\u001b[0m \u001b[0mself\u001b[0m\u001b[1;33m.\u001b[0m\u001b[0mis_boolean\u001b[0m\u001b[1;33m(\u001b[0m\u001b[1;33m)\u001b[0m\u001b[1;33m)\u001b[0m\u001b[1;33m:\u001b[0m\u001b[1;33m\u001b[0m\u001b[1;33m\u001b[0m\u001b[0m\n",
      "\u001b[1;32mpandas\\_libs\\index.pyx\u001b[0m in \u001b[0;36mpandas._libs.index.IndexEngine.get_value\u001b[1;34m()\u001b[0m\n",
      "\u001b[1;32mpandas\\_libs\\index.pyx\u001b[0m in \u001b[0;36mpandas._libs.index.IndexEngine.get_value\u001b[1;34m()\u001b[0m\n",
      "\u001b[1;32mpandas\\_libs\\index.pyx\u001b[0m in \u001b[0;36mpandas._libs.index.IndexEngine.get_loc\u001b[1;34m()\u001b[0m\n",
      "\u001b[1;32mpandas\\_libs\\hashtable_class_helper.pxi\u001b[0m in \u001b[0;36mpandas._libs.hashtable.Int64HashTable.get_item\u001b[1;34m()\u001b[0m\n",
      "\u001b[1;32mpandas\\_libs\\hashtable_class_helper.pxi\u001b[0m in \u001b[0;36mpandas._libs.hashtable.Int64HashTable.get_item\u001b[1;34m()\u001b[0m\n",
      "\u001b[1;31mKeyError\u001b[0m: 0"
     ]
    }
   ],
   "source": [
    "np.random.shuffle(df['Member_ID'])"
   ]
  },
  {
   "cell_type": "code",
   "execution_count": 67,
   "id": "incorporated-arena",
   "metadata": {},
   "outputs": [],
   "source": [
    "df.to_csv('big_data_task.csv', encoding='utf-8')"
   ]
  }
 ],
 "metadata": {
  "kernelspec": {
   "display_name": "Python 3",
   "language": "python",
   "name": "python3"
  },
  "language_info": {
   "codemirror_mode": {
    "name": "ipython",
    "version": 3
   },
   "file_extension": ".py",
   "mimetype": "text/x-python",
   "name": "python",
   "nbconvert_exporter": "python",
   "pygments_lexer": "ipython3",
   "version": "3.7.7"
  }
 },
 "nbformat": 4,
 "nbformat_minor": 5
}
